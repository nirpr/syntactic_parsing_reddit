{
 "cells": [
  {
   "cell_type": "code",
   "execution_count": null,
   "metadata": {
    "tags": []
   },
   "outputs": [],
   "source": [
    "# we are using berkeley neural parser\n",
    "# https://github.com/nikitakit/self-attentive-parser"
   ]
  },
  {
   "cell_type": "code",
   "execution_count": 2,
   "metadata": {
    "tags": [],
    "ExecuteTime": {
     "end_time": "2024-03-02T19:25:53.491671Z",
     "start_time": "2024-03-02T19:25:41.950750Z"
    }
   },
   "outputs": [
    {
     "name": "stderr",
     "output_type": "stream",
     "text": [
      "[nltk_data] Downloading package benepar_en3 to\n",
      "[nltk_data]     C:\\Users\\admin\\AppData\\Roaming\\nltk_data...\n",
      "[nltk_data]   Package benepar_en3 is already up-to-date!\n",
      "You are using the default legacy behaviour of the <class 'transformers.models.t5.tokenization_t5.T5Tokenizer'>. If you see this, DO NOT PANIC! This is expected, and simply means that the `legacy` (previous) behavior will be used so nothing changes for you. If you want to use the new behaviour, set `legacy=True`. This should only be set if you understand what it means, and thouroughly read the reason why this was added as explained in https://github.com/huggingface/transformers/pull/24565\n",
      "C:\\ProgramData\\anaconda3\\Lib\\site-packages\\transformers\\utils\\generic.py:260: UserWarning: torch.utils._pytree._register_pytree_node is deprecated. Please use torch.utils._pytree.register_pytree_node instead.\n",
      "  torch.utils._pytree._register_pytree_node(\n",
      "C:\\ProgramData\\anaconda3\\Lib\\site-packages\\transformers\\utils\\generic.py:260: UserWarning: torch.utils._pytree._register_pytree_node is deprecated. Please use torch.utils._pytree.register_pytree_node instead.\n",
      "  torch.utils._pytree._register_pytree_node(\n"
     ]
    }
   ],
   "source": [
    "import benepar\n",
    "benepar.download('benepar_en3')\n",
    "parser = benepar.Parser(\"benepar_en3\")"
   ]
  },
  {
   "cell_type": "code",
   "execution_count": 4,
   "metadata": {
    "tags": [],
    "ExecuteTime": {
     "end_time": "2024-03-02T19:26:57.113484Z",
     "start_time": "2024-03-02T19:26:57.050788Z"
    }
   },
   "outputs": [
    {
     "name": "stdout",
     "output_type": "stream",
     "text": [
      "       TOP                                     \n",
      "        |                                       \n",
      "        S                                      \n",
      "  ______|______                                 \n",
      " |             VP                              \n",
      " |       ______|____                            \n",
      " |      |          SBAR                        \n",
      " |      |       ____|____                       \n",
      " |      |      |         S                     \n",
      " |      |      |     ____|___                   \n",
      " |      |      |    |        VP                \n",
      " |      |      |    |     ___|________          \n",
      " |      |      |    |    |   |        PP       \n",
      " |      |      |    |    |   |     ___|____     \n",
      " NP     |      |    NP   |  ADVP  |        NP  \n",
      " |      |      |    |    |   |    |        |    \n",
      "PRP    VBD     IN  PRP   VB  RB   IN       NN  \n",
      " |      |      |    |    |   |    |        |    \n",
      " He suggested that they  go out  for     dinner\n"
     ]
    }
   ],
   "source": [
    "text = \"He suggested that they go out for dinner\"\n",
    "tree = parser.parse(text)\n",
    "tree.pretty_print()"
   ]
  },
  {
   "cell_type": "code",
   "execution_count": 3,
   "metadata": {
    "tags": [],
    "ExecuteTime": {
     "end_time": "2024-02-29T22:41:19.811423Z",
     "start_time": "2024-02-29T22:41:19.748776Z"
    }
   },
   "outputs": [
    {
     "name": "stdout",
     "output_type": "stream",
     "text": [
      "            TOP                         \n",
      "             |                           \n",
      "             S                          \n",
      "      _______|____                       \n",
      "     |            VP                    \n",
      "     |        ____|_________             \n",
      "     |       |    |         PP          \n",
      "     |       |    |     ____|______      \n",
      "     NP      |    NP   |           NP   \n",
      "     |       |    |    |           |     \n",
      "    NNS     VBD  NNS   IN          NN   \n",
      "     |       |    |    |           |     \n",
      "astronomers saw stars with     telescope\n"
     ]
    }
   ],
   "source": [
    "text = \"astronomers saw stars with telescope\"\n",
    "tree = parser.parse(text)\n",
    "tree.pretty_print()"
   ]
  },
  {
   "cell_type": "code",
   "execution_count": 4,
   "metadata": {
    "tags": [],
    "ExecuteTime": {
     "end_time": "2024-02-29T22:41:23.582626Z",
     "start_time": "2024-02-29T22:41:23.514773Z"
    }
   },
   "outputs": [
    {
     "name": "stdout",
     "output_type": "stream",
     "text": [
      "                                           TOP                                    \n",
      "                                            |                                      \n",
      "                                            S                                     \n",
      "                ____________________________|__________                            \n",
      "               NP                                      |                          \n",
      "      _________|________                               |                           \n",
      "     |                 SBAR                            |                          \n",
      "     |          ________|______                        |                           \n",
      "     |         |               S                       |                          \n",
      "     |         |     __________|_____                  |                           \n",
      "     |         |    |                VP                VP                         \n",
      "     |         |    |           _____|______        ___|______                     \n",
      "     NP       WHNP  NP         |            NP     |          NP                  \n",
      "  ___|____     |    |          |            |      |    ______|_______________     \n",
      " DT       NN  WDT  PRP        VBD           NN    VBD  DT     JJ      NN      NN  \n",
      " |        |    |    |          |            |      |   |      |       |       |    \n",
      "the     movie that  I       watched     yesterday was  an emotional roller coaster\n"
     ]
    }
   ],
   "source": [
    "text = \"the movie that I watched yesterday was an emotional roller coaster\"\n",
    "tree = parser.parse(text)\n",
    "tree.pretty_print()"
   ]
  },
  {
   "cell_type": "code",
   "execution_count": 5,
   "metadata": {
    "tags": [],
    "ExecuteTime": {
     "end_time": "2024-02-29T22:41:26.332499Z",
     "start_time": "2024-02-29T22:41:26.318334Z"
    }
   },
   "outputs": [
    {
     "name": "stdout",
     "output_type": "stream",
     "text": [
      "subtree 0\n",
      "TOP ['the', 'movie', 'that', 'I', 'watched', 'yesterday', 'was', 'an', 'emotional', 'roller', 'coaster']\n",
      "                                           TOP                                    \n",
      "                                            |                                      \n",
      "                                            S                                     \n",
      "                ____________________________|__________                            \n",
      "               NP                                      |                          \n",
      "      _________|________                               |                           \n",
      "     |                 SBAR                            |                          \n",
      "     |          ________|______                        |                           \n",
      "     |         |               S                       |                          \n",
      "     |         |     __________|_____                  |                           \n",
      "     |         |    |                VP                VP                         \n",
      "     |         |    |           _____|______        ___|______                     \n",
      "     NP       WHNP  NP         |            NP     |          NP                  \n",
      "  ___|____     |    |          |            |      |    ______|_______________     \n",
      " DT       NN  WDT  PRP        VBD           NN    VBD  DT     JJ      NN      NN  \n",
      " |        |    |    |          |            |      |   |      |       |       |    \n",
      "the     movie that  I       watched     yesterday was  an emotional roller coaster\n",
      "\n",
      "subtree 1\n",
      "S ['the', 'movie', 'that', 'I', 'watched', 'yesterday', 'was', 'an', 'emotional', 'roller', 'coaster']\n",
      "                                            S                                     \n",
      "                ____________________________|__________                            \n",
      "               NP                                      |                          \n",
      "      _________|________                               |                           \n",
      "     |                 SBAR                            |                          \n",
      "     |          ________|______                        |                           \n",
      "     |         |               S                       |                          \n",
      "     |         |     __________|_____                  |                           \n",
      "     |         |    |                VP                VP                         \n",
      "     |         |    |           _____|______        ___|______                     \n",
      "     NP       WHNP  NP         |            NP     |          NP                  \n",
      "  ___|____     |    |          |            |      |    ______|_______________     \n",
      " DT       NN  WDT  PRP        VBD           NN    VBD  DT     JJ      NN      NN  \n",
      " |        |    |    |          |            |      |   |      |       |       |    \n",
      "the     movie that  I       watched     yesterday was  an emotional roller coaster\n",
      "\n",
      "subtree 2\n",
      "NP ['the', 'movie', 'that', 'I', 'watched', 'yesterday']\n",
      "               NP                                \n",
      "      _________|________                          \n",
      "     |                 SBAR                      \n",
      "     |          ________|______                   \n",
      "     |         |               S                 \n",
      "     |         |     __________|_____             \n",
      "     |         |    |                VP          \n",
      "     |         |    |           _____|______      \n",
      "     NP       WHNP  NP         |            NP   \n",
      "  ___|____     |    |          |            |     \n",
      " DT       NN  WDT  PRP        VBD           NN   \n",
      " |        |    |    |          |            |     \n",
      "the     movie that  I       watched     yesterday\n",
      "\n",
      "subtree 3\n",
      "NP ['the', 'movie']\n",
      "     NP      \n",
      "  ___|____    \n",
      " DT       NN \n",
      " |        |   \n",
      "the     movie\n",
      "\n",
      "subtree 4\n",
      "DT ['the']\n",
      " DT\n",
      " |  \n",
      "the\n",
      "\n",
      "subtree 5\n",
      "NN ['movie']\n",
      "  NN \n",
      "  |   \n",
      "movie\n",
      "\n",
      "subtree 6\n",
      "SBAR ['that', 'I', 'watched', 'yesterday']\n",
      "         SBAR                      \n",
      "  ________|______                   \n",
      " |               S                 \n",
      " |     __________|_____             \n",
      " |    |                VP          \n",
      " |    |           _____|______      \n",
      "WHNP  NP         |            NP   \n",
      " |    |          |            |     \n",
      "WDT  PRP        VBD           NN   \n",
      " |    |          |            |     \n",
      "that  I       watched     yesterday\n",
      "\n",
      "subtree 7\n",
      "WHNP ['that']\n",
      "WHNP\n",
      " |   \n",
      "WDT \n",
      " |   \n",
      "that\n",
      "\n",
      "subtree 8\n",
      "WDT ['that']\n",
      "WDT \n",
      " |   \n",
      "that\n",
      "\n",
      "subtree 9\n",
      "S ['I', 'watched', 'yesterday']\n",
      "       S                 \n",
      "  _____|_____             \n",
      " |           VP          \n",
      " |      _____|______      \n",
      " NP    |            NP   \n",
      " |     |            |     \n",
      "PRP   VBD           NN   \n",
      " |     |            |     \n",
      " I  watched     yesterday\n",
      "\n",
      "subtree 10\n",
      "NP ['I']\n",
      " NP\n",
      " |  \n",
      "PRP\n",
      " |  \n",
      " I \n",
      "\n",
      "subtree 11\n",
      "PRP ['I']\n",
      "PRP\n",
      " |  \n",
      " I \n",
      "\n",
      "subtree 12\n",
      "VP ['watched', 'yesterday']\n",
      "         VP          \n",
      "    _____|______      \n",
      "   |            NP   \n",
      "   |            |     \n",
      "  VBD           NN   \n",
      "   |            |     \n",
      "watched     yesterday\n",
      "\n",
      "subtree 13\n",
      "VBD ['watched']\n",
      "  VBD  \n",
      "   |    \n",
      "watched\n",
      "\n",
      "subtree 14\n",
      "NP ['yesterday']\n",
      "    NP   \n",
      "    |     \n",
      "    NN   \n",
      "    |     \n",
      "yesterday\n",
      "\n",
      "subtree 15\n",
      "NN ['yesterday']\n",
      "    NN   \n",
      "    |     \n",
      "yesterday\n",
      "\n",
      "subtree 16\n",
      "VP ['was', 'an', 'emotional', 'roller', 'coaster']\n",
      "     VP                         \n",
      "  ___|______                     \n",
      " |          NP                  \n",
      " |    ______|_______________     \n",
      "VBD  DT     JJ      NN      NN  \n",
      " |   |      |       |       |    \n",
      "was  an emotional roller coaster\n",
      "\n",
      "subtree 17\n",
      "VBD ['was']\n",
      "VBD\n",
      " |  \n",
      "was\n",
      "\n",
      "subtree 18\n",
      "NP ['an', 'emotional', 'roller', 'coaster']\n",
      "        NP                  \n",
      "  ______|_______________     \n",
      " DT     JJ      NN      NN  \n",
      " |      |       |       |    \n",
      " an emotional roller coaster\n",
      "\n",
      "subtree 19\n",
      "DT ['an']\n",
      " DT\n",
      " |  \n",
      " an\n",
      "\n",
      "subtree 20\n",
      "JJ ['emotional']\n",
      "    JJ   \n",
      "    |     \n",
      "emotional\n",
      "\n",
      "subtree 21\n",
      "NN ['roller']\n",
      "  NN  \n",
      "  |    \n",
      "roller\n",
      "\n",
      "subtree 22\n",
      "NN ['coaster']\n",
      "   NN  \n",
      "   |    \n",
      "coaster\n"
     ]
    }
   ],
   "source": [
    "for i, stree in enumerate(tree.subtrees()):  # returns all subtrees\n",
    "    print(f'subtree {i}')\n",
    "    print(stree.label(), stree.leaves())\n",
    "    stree.pretty_print()"
   ]
  },
  {
   "cell_type": "code",
   "execution_count": null,
   "metadata": {},
   "outputs": [],
   "source": []
  }
 ],
 "metadata": {
  "kernelspec": {
   "display_name": "Python 3 (ipykernel)",
   "language": "python",
   "name": "python3"
  },
  "language_info": {
   "codemirror_mode": {
    "name": "ipython",
    "version": 3
   },
   "file_extension": ".py",
   "mimetype": "text/x-python",
   "name": "python",
   "nbconvert_exporter": "python",
   "pygments_lexer": "ipython3",
   "version": "3.11.5"
  }
 },
 "nbformat": 4,
 "nbformat_minor": 4
}
